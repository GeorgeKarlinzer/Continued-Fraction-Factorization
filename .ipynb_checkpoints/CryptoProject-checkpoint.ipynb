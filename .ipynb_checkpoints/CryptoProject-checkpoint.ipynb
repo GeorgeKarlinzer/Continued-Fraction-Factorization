{
 "cells": [
  {
   "cell_type": "markdown",
   "id": "578fce41",
   "metadata": {},
   "source": [
    "n это не квадрат\n",
    "tests for gauss"
   ]
  },
  {
   "cell_type": "code",
   "execution_count": 282,
   "id": "7829e356",
   "metadata": {},
   "outputs": [
    {
     "name": "stdout",
     "output_type": "stream",
     "text": [
      "[2, 3, 5, 7, 11, 19, 23]\n"
     ]
    }
   ],
   "source": [
    "import math\n",
    "import random\n",
    "\n",
    "def get_Legendre(a, n):\n",
    "        ls = pow(a, (n - 1) // 2, n)\n",
    "        return -1 if ls == n - 1 else ls\n",
    "\n",
    "def is_prime(n, k):\n",
    "    if n < 2: return False\n",
    "    if n < 4: return True\n",
    "    if n % 2 == 0: return False    # speedup\n",
    "\n",
    "    s = 0\n",
    "    d = n-1\n",
    "    while d % 2 == 0:\n",
    "        s += 1\n",
    "        d //= 2\n",
    "\n",
    "    for i in range(k):\n",
    "        a = random.randrange(2, n - 1)\n",
    "        x = (a ** d) % n\n",
    "        \n",
    "        if x != 1:\n",
    "            for r in range(s):\n",
    "                if x == n - 1:\n",
    "                    break\n",
    "                x = (x ** 2) % n\n",
    "            if x != n - 1:\n",
    "                return False\n",
    "        \n",
    "    return True  \n",
    "    \n",
    "def get_factor_base(n):\n",
    "    base = [2]\n",
    "    \n",
    "    maxP = math.floor(math.exp(math.sqrt(math.log(n)*math.log(math.log(n)))/2))\n",
    "    for i in range(3, maxP + 1, 2):\n",
    "        if is_prime(i, 10) and get_Legendre(n, i) == 1:\n",
    "            base.append(i)\n",
    "    \n",
    "    return base\n",
    "        \n",
    "n = 21299881\n",
    "#n = 3571 * 2699\n",
    "#n = 2797 * 2687\n",
    "base = get_factor_base(n)\n",
    "print(base)"
   ]
  },
  {
   "cell_type": "code",
   "execution_count": 328,
   "id": "c008cbec",
   "metadata": {},
   "outputs": [
    {
     "name": "stdout",
     "output_type": "stream",
     "text": [
      "[1, 0, 0, 1, 1, 0, 0, 0]\n",
      "[0, 1, 1, 0, 1, 0, 0, 0]\n",
      "[1, 0, 0, 1, 0, 1, 0, 0]\n",
      "[0, 0, 0, 1, 1, 1, 0, 0]\n",
      "[1, 1, 0, 0, 0, 0, 1, 0]\n",
      "[1, 0, 0, 0, 0, 1, 0, 0]\n",
      "[0, 0, 1, 1, 0, 0, 0, 0]\n",
      "[0, 0, 1, 0, 1, 1, 0, 1]\n",
      "[1, 0, 0, 0, 1, 0, 0, 0]\n"
     ]
    }
   ],
   "source": [
    "import decimal\n",
    "\n",
    "def continue_fraction(x, k):\n",
    "    cf = []\n",
    "    q = math.floor(x)\n",
    "    cf.append(q)\n",
    "    x = x - q\n",
    "    i = 0\n",
    "    while x != 0 and i < k:\n",
    "        q = math.floor(1 / x)\n",
    "        cf.append(q)\n",
    "        x = 1 / x - q\n",
    "        i = i + 1\n",
    "    return cf\n",
    "\n",
    "\n",
    "def get_smooth_P(b, n, base):\n",
    "    smooth_p = []\n",
    "    p0 = 1\n",
    "    p1 = b[0]\n",
    "    \n",
    "    for i in range(1, len(b)):\n",
    "        p1, p0 = b[i] * p1 + p0, p1\n",
    "        \n",
    "        temp1 = (p1 ** 2)\n",
    "        temp2 = n - temp1\n",
    "        print(temp1)\n",
    "        e1 = [0] * (len(base) + 1)\n",
    "        e2 = [1] + [0] * len(base)\n",
    "        \n",
    "        def check(temp, e):\n",
    "            k = 0\n",
    "            while temp != 1 and k < len(base):\n",
    "                while temp % base[k] == 0:\n",
    "                    e[k + 1] ^= 1\n",
    "                    temp //= base[k]\n",
    "                k += 1\n",
    "\n",
    "            if temp == 1:\n",
    "                smooth_p.append((p1, e))\n",
    "                \n",
    "        \n",
    "        check(temp1, e1)\n",
    "        check(temp2, e2)\n",
    "        \n",
    "    return smooth_p\n",
    "\n",
    "b = continue_fraction(decimal.Decimal(n).sqrt(), 100)\n",
    "smooth_p = get_smooth_P(b, n, base)\n",
    "for i in smooth_p:\n",
    "    print(i[1])"
   ]
  },
  {
   "cell_type": "code",
   "execution_count": 317,
   "id": "b8b3c7c1",
   "metadata": {
    "scrolled": true
   },
   "outputs": [],
   "source": [
    "from collections import Counter\n",
    "\n",
    "def XOR(v1, v2):\n",
    "    return [e1 ^ e2 for e1, e2 in zip(v1, v2)]\n",
    "\n",
    "\n",
    "def gauss_elimination(m):\n",
    "    matrix = m\n",
    "    l = len(matrix)\n",
    "    op = [[] for i in range(l)]\n",
    "    for i in range(len(matrix[0])):\n",
    "        vectors = []\n",
    "        for j in range(l):\n",
    "            if matrix[j][i] != 1 or 1 in matrix[j][:i]:\n",
    "                continue\n",
    "            vectors.append(j)\n",
    "\n",
    "        main_i = vectors[random.randint(0, len(vectors) - 1)]\n",
    "        for j in vectors:\n",
    "            if j == main_i:\n",
    "                continue\n",
    "            op[j] += op[main_i] + [main_i]\n",
    "            matrix[j] = XOR(matrix[j], matrix[main_i])\n",
    "            \n",
    "        for j in range(l):\n",
    "            v = matrix[j]\n",
    "            if 1 not in v:\n",
    "                data = op[j] + [j]\n",
    "                return [item for item, count in Counter(data).items() if count % 2]\n",
    "        \n",
    "\n",
    "            \n",
    "#matrix = [i[1] for i in smooth_p]\n",
    "#xor_e = gauss_elimination(matrix)\n",
    "#print(xor_e)"
   ]
  },
  {
   "cell_type": "code",
   "execution_count": 326,
   "id": "4df52bb9",
   "metadata": {},
   "outputs": [
    {
     "ename": "ValueError",
     "evalue": "empty range for randrange() (0, 0, 0)",
     "output_type": "error",
     "traceback": [
      "\u001b[1;31m---------------------------------------------------------------------------\u001b[0m",
      "\u001b[1;31mValueError\u001b[0m                                Traceback (most recent call last)",
      "\u001b[1;32m~\\AppData\\Local\\Temp/ipykernel_34184/4071886190.py\u001b[0m in \u001b[0;36m<module>\u001b[1;34m\u001b[0m\n\u001b[0;32m     19\u001b[0m         \u001b[1;32mreturn\u001b[0m \u001b[0mmath\u001b[0m\u001b[1;33m.\u001b[0m\u001b[0mgcd\u001b[0m\u001b[1;33m(\u001b[0m\u001b[0mx\u001b[0m \u001b[1;33m-\u001b[0m \u001b[0my\u001b[0m\u001b[1;33m,\u001b[0m \u001b[0mn\u001b[0m\u001b[1;33m)\u001b[0m\u001b[1;33m\u001b[0m\u001b[1;33m\u001b[0m\u001b[0m\n\u001b[0;32m     20\u001b[0m \u001b[1;33m\u001b[0m\u001b[0m\n\u001b[1;32m---> 21\u001b[1;33m \u001b[0mprint\u001b[0m\u001b[1;33m(\u001b[0m\u001b[0mget_result\u001b[0m\u001b[1;33m(\u001b[0m\u001b[0msmooth_p\u001b[0m\u001b[1;33m,\u001b[0m \u001b[0mn\u001b[0m\u001b[1;33m)\u001b[0m\u001b[1;33m)\u001b[0m\u001b[1;33m\u001b[0m\u001b[1;33m\u001b[0m\u001b[0m\n\u001b[0m",
      "\u001b[1;32m~\\AppData\\Local\\Temp/ipykernel_34184/4071886190.py\u001b[0m in \u001b[0;36mget_result\u001b[1;34m(smooth_p, n)\u001b[0m\n\u001b[0;32m      2\u001b[0m     \u001b[1;32mwhile\u001b[0m \u001b[1;32mTrue\u001b[0m\u001b[1;33m:\u001b[0m\u001b[1;33m\u001b[0m\u001b[1;33m\u001b[0m\u001b[0m\n\u001b[0;32m      3\u001b[0m         \u001b[0mmatrix\u001b[0m \u001b[1;33m=\u001b[0m \u001b[1;33m[\u001b[0m\u001b[0mi\u001b[0m\u001b[1;33m[\u001b[0m\u001b[1;36m1\u001b[0m\u001b[1;33m]\u001b[0m \u001b[1;32mfor\u001b[0m \u001b[0mi\u001b[0m \u001b[1;32min\u001b[0m \u001b[0msmooth_p\u001b[0m\u001b[1;33m]\u001b[0m\u001b[1;33m\u001b[0m\u001b[1;33m\u001b[0m\u001b[0m\n\u001b[1;32m----> 4\u001b[1;33m         \u001b[0mxor_e\u001b[0m \u001b[1;33m=\u001b[0m \u001b[0mgauss_elimination\u001b[0m\u001b[1;33m(\u001b[0m\u001b[0mmatrix\u001b[0m\u001b[1;33m)\u001b[0m\u001b[1;33m\u001b[0m\u001b[1;33m\u001b[0m\u001b[0m\n\u001b[0m\u001b[0;32m      5\u001b[0m         \u001b[0mprint\u001b[0m\u001b[1;33m(\u001b[0m\u001b[0mxor_e\u001b[0m\u001b[1;33m)\u001b[0m\u001b[1;33m\u001b[0m\u001b[1;33m\u001b[0m\u001b[0m\n\u001b[0;32m      6\u001b[0m         \u001b[0mx\u001b[0m\u001b[1;33m,\u001b[0m \u001b[0my\u001b[0m \u001b[1;33m=\u001b[0m \u001b[1;36m1\u001b[0m\u001b[1;33m,\u001b[0m \u001b[1;36m1\u001b[0m\u001b[1;33m\u001b[0m\u001b[1;33m\u001b[0m\u001b[0m\n",
      "\u001b[1;32m~\\AppData\\Local\\Temp/ipykernel_34184/1078560701.py\u001b[0m in \u001b[0;36mgauss_elimination\u001b[1;34m(m)\u001b[0m\n\u001b[0;32m     16\u001b[0m             \u001b[0mvectors\u001b[0m\u001b[1;33m.\u001b[0m\u001b[0mappend\u001b[0m\u001b[1;33m(\u001b[0m\u001b[0mj\u001b[0m\u001b[1;33m)\u001b[0m\u001b[1;33m\u001b[0m\u001b[1;33m\u001b[0m\u001b[0m\n\u001b[0;32m     17\u001b[0m \u001b[1;33m\u001b[0m\u001b[0m\n\u001b[1;32m---> 18\u001b[1;33m         \u001b[0mmain_i\u001b[0m \u001b[1;33m=\u001b[0m \u001b[0mvectors\u001b[0m\u001b[1;33m[\u001b[0m\u001b[0mrandom\u001b[0m\u001b[1;33m.\u001b[0m\u001b[0mrandint\u001b[0m\u001b[1;33m(\u001b[0m\u001b[1;36m0\u001b[0m\u001b[1;33m,\u001b[0m \u001b[0mlen\u001b[0m\u001b[1;33m(\u001b[0m\u001b[0mvectors\u001b[0m\u001b[1;33m)\u001b[0m \u001b[1;33m-\u001b[0m \u001b[1;36m1\u001b[0m\u001b[1;33m)\u001b[0m\u001b[1;33m]\u001b[0m\u001b[1;33m\u001b[0m\u001b[1;33m\u001b[0m\u001b[0m\n\u001b[0m\u001b[0;32m     19\u001b[0m         \u001b[1;32mfor\u001b[0m \u001b[0mj\u001b[0m \u001b[1;32min\u001b[0m \u001b[0mvectors\u001b[0m\u001b[1;33m:\u001b[0m\u001b[1;33m\u001b[0m\u001b[1;33m\u001b[0m\u001b[0m\n\u001b[0;32m     20\u001b[0m             \u001b[1;32mif\u001b[0m \u001b[0mj\u001b[0m \u001b[1;33m==\u001b[0m \u001b[0mmain_i\u001b[0m\u001b[1;33m:\u001b[0m\u001b[1;33m\u001b[0m\u001b[1;33m\u001b[0m\u001b[0m\n",
      "\u001b[1;32mC:\\Program Files\\WindowsApps\\PythonSoftwareFoundation.Python.3.9_3.9.2800.0_x64__qbz5n2kfra8p0\\lib\\random.py\u001b[0m in \u001b[0;36mrandint\u001b[1;34m(self, a, b)\u001b[0m\n\u001b[0;32m    336\u001b[0m         \"\"\"\n\u001b[0;32m    337\u001b[0m \u001b[1;33m\u001b[0m\u001b[0m\n\u001b[1;32m--> 338\u001b[1;33m         \u001b[1;32mreturn\u001b[0m \u001b[0mself\u001b[0m\u001b[1;33m.\u001b[0m\u001b[0mrandrange\u001b[0m\u001b[1;33m(\u001b[0m\u001b[0ma\u001b[0m\u001b[1;33m,\u001b[0m \u001b[0mb\u001b[0m\u001b[1;33m+\u001b[0m\u001b[1;36m1\u001b[0m\u001b[1;33m)\u001b[0m\u001b[1;33m\u001b[0m\u001b[1;33m\u001b[0m\u001b[0m\n\u001b[0m\u001b[0;32m    339\u001b[0m \u001b[1;33m\u001b[0m\u001b[0m\n\u001b[0;32m    340\u001b[0m \u001b[1;33m\u001b[0m\u001b[0m\n",
      "\u001b[1;32mC:\\Program Files\\WindowsApps\\PythonSoftwareFoundation.Python.3.9_3.9.2800.0_x64__qbz5n2kfra8p0\\lib\\random.py\u001b[0m in \u001b[0;36mrandrange\u001b[1;34m(self, start, stop, step)\u001b[0m\n\u001b[0;32m    314\u001b[0m             \u001b[1;32mreturn\u001b[0m \u001b[0mistart\u001b[0m \u001b[1;33m+\u001b[0m \u001b[0mself\u001b[0m\u001b[1;33m.\u001b[0m\u001b[0m_randbelow\u001b[0m\u001b[1;33m(\u001b[0m\u001b[0mwidth\u001b[0m\u001b[1;33m)\u001b[0m\u001b[1;33m\u001b[0m\u001b[1;33m\u001b[0m\u001b[0m\n\u001b[0;32m    315\u001b[0m         \u001b[1;32mif\u001b[0m \u001b[0mstep\u001b[0m \u001b[1;33m==\u001b[0m \u001b[1;36m1\u001b[0m\u001b[1;33m:\u001b[0m\u001b[1;33m\u001b[0m\u001b[1;33m\u001b[0m\u001b[0m\n\u001b[1;32m--> 316\u001b[1;33m             \u001b[1;32mraise\u001b[0m \u001b[0mValueError\u001b[0m\u001b[1;33m(\u001b[0m\u001b[1;34m\"empty range for randrange() (%d, %d, %d)\"\u001b[0m \u001b[1;33m%\u001b[0m \u001b[1;33m(\u001b[0m\u001b[0mistart\u001b[0m\u001b[1;33m,\u001b[0m \u001b[0mistop\u001b[0m\u001b[1;33m,\u001b[0m \u001b[0mwidth\u001b[0m\u001b[1;33m)\u001b[0m\u001b[1;33m)\u001b[0m\u001b[1;33m\u001b[0m\u001b[1;33m\u001b[0m\u001b[0m\n\u001b[0m\u001b[0;32m    317\u001b[0m \u001b[1;33m\u001b[0m\u001b[0m\n\u001b[0;32m    318\u001b[0m         \u001b[1;31m# Non-unit step argument supplied.\u001b[0m\u001b[1;33m\u001b[0m\u001b[1;33m\u001b[0m\u001b[0m\n",
      "\u001b[1;31mValueError\u001b[0m: empty range for randrange() (0, 0, 0)"
     ]
    }
   ],
   "source": [
    "\n",
    "def get_result(smooth_p, n):\n",
    "    while True:\n",
    "        matrix = [i[1] for i in smooth_p]\n",
    "        xor_e = gauss_elimination(matrix)\n",
    "        print(xor_e)\n",
    "        x, y = 1, 1\n",
    "        for i in xor_e:\n",
    "            p = smooth_p[i][0]\n",
    "            e0 = smooth_p[i][1][0]\n",
    "            pp = n * e0 + (-1) ** e0 * (p ** 2 % n)\n",
    "            x = (x * p) % n\n",
    "            y *= pp\n",
    "\n",
    "        y = int(math.sqrt(y))\n",
    "\n",
    "        if (x + y) % n == 0 or (x - y) % n == 0:\n",
    "            continue\n",
    "\n",
    "        return math.gcd(x - y, n)\n",
    "    \n",
    "print(get_result(smooth_p, n))\n"
   ]
  },
  {
   "cell_type": "code",
   "execution_count": null,
   "id": "4da08c07",
   "metadata": {},
   "outputs": [],
   "source": []
  },
  {
   "cell_type": "code",
   "execution_count": null,
   "id": "c9a72b8f",
   "metadata": {},
   "outputs": [],
   "source": []
  }
 ],
 "metadata": {
  "kernelspec": {
   "display_name": "Python 3 (ipykernel)",
   "language": "python",
   "name": "python3"
  },
  "language_info": {
   "codemirror_mode": {
    "name": "ipython",
    "version": 3
   },
   "file_extension": ".py",
   "mimetype": "text/x-python",
   "name": "python",
   "nbconvert_exporter": "python",
   "pygments_lexer": "ipython3",
   "version": "3.9.10"
  }
 },
 "nbformat": 4,
 "nbformat_minor": 5
}
