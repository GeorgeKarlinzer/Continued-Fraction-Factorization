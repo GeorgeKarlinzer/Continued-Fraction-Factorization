{
 "cells": [
  {
   "cell_type": "code",
   "execution_count": null,
   "id": "7829e356",
   "metadata": {},
   "outputs": [],
   "source": [
    "import math\n",
    "def findB(n):\n",
    "    b = math.floor(math.exp(math.sqrt(math.log(n)*math.log(math.log(n)))/2))\n",
    "    return b\n",
    "\n",
    "print(findB(3053))\n",
    "\n",
    "\n",
    "def sqrt_convergents(n):\n",
    "\n",
    "    x = math.isqrt(n)\n",
    "    y = x \n",
    "    z = 1\n",
    "    a = 2*x\n",
    "\n",
    "    e1, e2 = 1, 0\n",
    "    f1, f2 = 0, 1\n",
    "    \n",
    "    while True:\n",
    "        y = a * z - y\n",
    "        z = math.floor((n - y*y) / z)\n",
    "        a = math.floor((x + y) / z)\n",
    "\n",
    "        A_k = e2 + x*f2\n",
    "        B_k = f2\n",
    "\n",
    "        t = A_k/B_k\n",
    "        print(f'{A_k} / {B_k} = {A_k/B_k}')\n",
    "\n",
    "        f1, f2 = f2, a*f2 + f1\n",
    "        e1, e2 = e2, a*e2 + e1\n",
    "\n",
    "        if (z == 1):\n",
    "            break "
   ]
  }
 ],
 "metadata": {
  "kernelspec": {
   "display_name": "Python 3 (ipykernel)",
   "language": "python",
   "name": "python3"
  },
  "language_info": {
   "codemirror_mode": {
    "name": "ipython",
    "version": 3
   },
   "file_extension": ".py",
   "mimetype": "text/x-python",
   "name": "python",
   "nbconvert_exporter": "python",
   "pygments_lexer": "ipython3",
   "version": "3.9.10"
  }
 },
 "nbformat": 4,
 "nbformat_minor": 5
}
